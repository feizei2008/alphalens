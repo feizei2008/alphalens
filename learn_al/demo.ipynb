{
 "cells": [
  {
   "cell_type": "markdown",
   "metadata": {},
   "source": [
    "#### jupyter启动步骤\n",
    "1. 在pycharm中点击jupyter的|第一个代码块\n",
    "2. 在右下方“Event Log”中点击“Open in Browser”"
   ]
  },
  {
   "cell_type": "code",
   "execution_count": 1,
   "metadata": {
    "pycharm": {
     "is_executing": true
    }
   },
   "outputs": [
    {
     "name": "stdout",
     "output_type": "stream",
     "text": [
      "0.3.6+8.g998e36d.dirty\n"
     ]
    }
   ],
   "source": [
    "from pyecharts import Bar\n",
    "import matplotlib\n",
    "from datetime import datetime\n",
    "from talib import MOM\n",
    "import os\n",
    "import pandas as pd\n",
    "import alphalens as al\n",
    "from pylab import mpl\n",
    "import matplotlib.pyplot as plt\n",
    "\n",
    "# %matplotlib inline\n",
    "\n",
    "# 正常显示画图时出现的中文和负号\n",
    "mpl.rcParams['font.sans-serif'] = ['SimHei']\n",
    "mpl.rcParams['axes.unicode_minus'] = False\n",
    "\n",
    "print(al.__version__)"
   ]
  },
  {
   "cell_type": "markdown",
   "metadata": {},
   "source": [
    "### 数据格式要求\n",
    "\n",
    "#### 因子数据\n",
    "1. 需要处理成 Dataframe 格式，且其索引必须是二维日期和股票代码\n",
    "\n",
    "#### 价格数据\n",
    "1. 列为时间，行为股票的 Dataframe\n",
    "\n",
    "#### 行业数据\n",
    "1. 可有可无\n",
    "2. 若有则可以设置成Dict格式或者Series格式"
   ]
  },
  {
   "cell_type": "code",
   "execution_count": 2,
   "metadata": {
    "pycharm": {
     "is_executing": true,
     "name": "#%%\n"
    }
   },
   "outputs": [],
   "source": [
    "father_dir = os.path.abspath(os.path.dirname(os.getcwd()))  # 上一级目录\n",
    "grandfather_dir = os.path.abspath(os.path.join(os.getcwd(), \"../..\"))  # 上上级目录\n",
    "prices_path = os.path.join(father_dir, 'data', 'processed', 'prices\\\\')\n",
    "factors_path = os.path.join(father_dir, 'data', 'processed', 'factors\\\\')\n",
    "\n",
    "daily_prices = pd.read_csv(os.path.join(prices_path, 'daily_prices.csv'), parse_dates=True, index_col=['date'])\n",
    "daily_factors = pd.read_csv(os.path.join(factors_path, 'daily_factors_new.csv'), parse_dates=True, index_col=['date', 'asset'])\n",
    "\n",
    "parser = lambda dates: datetime.strptime(dates, '%Y-%m-%d %H:%M:%S')\n",
    "# min_prices = pd.read_csv(os.path.join(prices_path, 'min_prices.csv'), parse_dates=True, index_col=['date'])\n",
    "# min_factors = pd.read_csv(os.path.join(factors_path, 'min_factors_new.csv'), parse_dates=True, index_col=['date', 'asset'])\n",
    "min_prices = pd.read_csv(os.path.join(prices_path, 'min_prices.csv'), index_col=['date'], parse_dates=['date'], date_parser=parser)\n",
    "min_factors = pd.read_csv(os.path.join(factors_path, 'min_factors_new.csv'), index_col=['date', 'asset'], parse_dates=['date'], date_parser=parser)"
   ]
  },
  {
   "cell_type": "markdown",
   "metadata": {},
   "source": [
    "因子值分组规则：因子值小的排在第一组，因子值大的排在最后一组\n",
    "https://github.com/quantopian/alphalens/blob/master/alphalens/examples/alphalens_tutorial_on_quantopian.ipynb\n",
    "quantiles option chooses the buckets to have the same number of items but it doesn't take into\n",
    "consideration the factor values. For this reason there is another option bins, which chooses the\n",
    "buckets to be evenly spaced according to the values themselves."
   ]
  },
  {
   "cell_type": "code",
   "execution_count": 3,
   "metadata": {},
   "outputs": [
    {
     "name": "stdout",
     "output_type": "stream",
     "text": [
      "DatetimeIndex(['2018-01-02', '2018-01-03', '2018-01-04', '2018-01-05',\n",
      "               '2018-01-08', '2018-01-09', '2018-01-10', '2018-01-11',\n",
      "               '2018-01-12', '2018-01-15',\n",
      "               ...\n",
      "               '2021-05-19', '2021-05-20', '2021-05-21', '2021-05-24',\n",
      "               '2021-05-25', '2021-05-26', '2021-05-27', '2021-05-28',\n",
      "               '2021-05-31', '2021-06-01'],\n",
      "              dtype='datetime64[ns]', name='date', length=828, freq=None), \n",
      " DatetimeIndex(['2022-01-17 14:55:00', '2022-01-17 14:56:00',\n",
      "               '2022-01-17 14:57:00', '2022-01-17 14:58:00',\n",
      "               '2022-01-17 14:59:00', '2022-01-18 09:00:00',\n",
      "               '2022-01-18 09:01:00', '2022-01-18 09:02:00',\n",
      "               '2022-01-18 09:03:00', '2022-01-18 09:04:00',\n",
      "               ...\n",
      "               '2022-02-14 14:50:00', '2022-02-14 14:51:00',\n",
      "               '2022-02-14 14:52:00', '2022-02-14 14:53:00',\n",
      "               '2022-02-14 14:54:00', '2022-02-14 14:55:00',\n",
      "               '2022-02-14 14:56:00', '2022-02-14 14:57:00',\n",
      "               '2022-02-14 14:58:00', '2022-02-14 14:59:00'],\n",
      "              dtype='datetime64[ns]', name='date', length=3380, freq=None)\n"
     ]
    }
   ],
   "source": [
    "# min_prices.plot()\n",
    "# plt.show()\n",
    "print(f\"{daily_prices.index}, \\n {min_prices.index}\")"
   ]
  },
  {
   "cell_type": "code",
   "execution_count": 9,
   "metadata": {},
   "outputs": [
    {
     "name": "stdout",
     "output_type": "stream",
     "text": [
      "DatetimeIndex(['2018-01-02', '2018-01-03', '2018-01-04', '2018-01-05',\n",
      "               '2018-01-08', '2018-01-09', '2018-01-10', '2018-01-11',\n",
      "               '2018-01-12', '2018-01-15',\n",
      "               ...\n",
      "               '2021-05-19', '2021-05-20', '2021-05-21', '2021-05-24',\n",
      "               '2021-05-25', '2021-05-26', '2021-05-27', '2021-05-28',\n",
      "               '2021-05-31', '2021-06-01'],\n",
      "              dtype='datetime64[ns]', name='date', length=828, freq=None), \n",
      " DatetimeIndex(['2022-01-17 14:55:00', '2022-01-17 14:56:00',\n",
      "               '2022-01-17 14:57:00', '2022-01-17 14:58:00',\n",
      "               '2022-01-17 14:59:00', '2022-01-18 09:00:00',\n",
      "               '2022-01-18 09:01:00', '2022-01-18 09:02:00',\n",
      "               '2022-01-18 09:03:00', '2022-01-18 09:04:00',\n",
      "               ...\n",
      "               '2022-02-14 14:50:00', '2022-02-14 14:51:00',\n",
      "               '2022-02-14 14:52:00', '2022-02-14 14:53:00',\n",
      "               '2022-02-14 14:54:00', '2022-02-14 14:55:00',\n",
      "               '2022-02-14 14:56:00', '2022-02-14 14:57:00',\n",
      "               '2022-02-14 14:58:00', '2022-02-14 14:59:00'],\n",
      "              dtype='datetime64[ns]', name='date', length=3380, freq=None)\n"
     ]
    },
    {
     "ename": "ValueError",
     "evalue": "Inferred frequency None from passed values does not conform to passed frequency T",
     "output_type": "error",
     "traceback": [
      "\u001b[1;31m---------------------------------------------------------------------------\u001b[0m",
      "\u001b[1;31mValueError\u001b[0m                                Traceback (most recent call last)",
      "\u001b[1;32mE:\\E_GitHubRepos\\alphalens\\venv\\lib\\site-packages\\pandas\\core\\arrays\\datetimelike.py\u001b[0m in \u001b[0;36m_validate_frequency\u001b[1;34m(cls, index, freq, **kwargs)\u001b[0m\n\u001b[0;32m    885\u001b[0m             \u001b[1;32mif\u001b[0m \u001b[1;32mnot\u001b[0m \u001b[0mnp\u001b[0m\u001b[1;33m.\u001b[0m\u001b[0marray_equal\u001b[0m\u001b[1;33m(\u001b[0m\u001b[0mindex\u001b[0m\u001b[1;33m.\u001b[0m\u001b[0masi8\u001b[0m\u001b[1;33m,\u001b[0m \u001b[0mon_freq\u001b[0m\u001b[1;33m.\u001b[0m\u001b[0masi8\u001b[0m\u001b[1;33m)\u001b[0m\u001b[1;33m:\u001b[0m\u001b[1;33m\u001b[0m\u001b[1;33m\u001b[0m\u001b[0m\n\u001b[1;32m--> 886\u001b[1;33m                 \u001b[1;32mraise\u001b[0m \u001b[0mValueError\u001b[0m\u001b[1;33m\u001b[0m\u001b[1;33m\u001b[0m\u001b[0m\n\u001b[0m\u001b[0;32m    887\u001b[0m         \u001b[1;32mexcept\u001b[0m \u001b[0mValueError\u001b[0m \u001b[1;32mas\u001b[0m \u001b[0me\u001b[0m\u001b[1;33m:\u001b[0m\u001b[1;33m\u001b[0m\u001b[1;33m\u001b[0m\u001b[0m\n",
      "\u001b[1;31mValueError\u001b[0m: ",
      "\nThe above exception was the direct cause of the following exception:\n",
      "\u001b[1;31mValueError\u001b[0m                                Traceback (most recent call last)",
      "\u001b[1;32m~\\AppData\\Local\\Temp\\ipykernel_20868\\4079498950.py\u001b[0m in \u001b[0;36m<module>\u001b[1;34m\u001b[0m\n\u001b[0;32m      4\u001b[0m \u001b[1;31m# set freq to C\u001b[0m\u001b[1;33m\u001b[0m\u001b[1;33m\u001b[0m\u001b[1;33m\u001b[0m\u001b[0m\n\u001b[0;32m      5\u001b[0m \u001b[1;31m# min_factors.index.levels[0].freq = 'C'\u001b[0m\u001b[1;33m\u001b[0m\u001b[1;33m\u001b[0m\u001b[1;33m\u001b[0m\u001b[0m\n\u001b[1;32m----> 6\u001b[1;33m \u001b[0mmin_factors\u001b[0m\u001b[1;33m.\u001b[0m\u001b[0mindex\u001b[0m\u001b[1;33m.\u001b[0m\u001b[0mlevels\u001b[0m\u001b[1;33m[\u001b[0m\u001b[1;36m0\u001b[0m\u001b[1;33m]\u001b[0m\u001b[1;33m.\u001b[0m\u001b[0mfreq\u001b[0m \u001b[1;33m=\u001b[0m \u001b[1;34m'T'\u001b[0m\u001b[1;33m\u001b[0m\u001b[1;33m\u001b[0m\u001b[0m\n\u001b[0m\u001b[0;32m      7\u001b[0m \u001b[0mprint\u001b[0m\u001b[1;33m(\u001b[0m\u001b[1;34mf\"{daily_factors.index.levels[0]}, \\n {min_factors.index.levels[0]}\"\u001b[0m\u001b[1;33m)\u001b[0m\u001b[1;33m\u001b[0m\u001b[1;33m\u001b[0m\u001b[0m\n",
      "\u001b[1;32mE:\\E_GitHubRepos\\alphalens\\venv\\lib\\site-packages\\pandas\\core\\indexes\\extension.py\u001b[0m in \u001b[0;36mfset\u001b[1;34m(self, value)\u001b[0m\n\u001b[0;32m     67\u001b[0m \u001b[1;33m\u001b[0m\u001b[0m\n\u001b[0;32m     68\u001b[0m             \u001b[1;32mdef\u001b[0m \u001b[0mfset\u001b[0m\u001b[1;33m(\u001b[0m\u001b[0mself\u001b[0m\u001b[1;33m,\u001b[0m \u001b[0mvalue\u001b[0m\u001b[1;33m)\u001b[0m\u001b[1;33m:\u001b[0m\u001b[1;33m\u001b[0m\u001b[1;33m\u001b[0m\u001b[0m\n\u001b[1;32m---> 69\u001b[1;33m                 \u001b[0msetattr\u001b[0m\u001b[1;33m(\u001b[0m\u001b[0mself\u001b[0m\u001b[1;33m.\u001b[0m\u001b[0m_data\u001b[0m\u001b[1;33m,\u001b[0m \u001b[0mname\u001b[0m\u001b[1;33m,\u001b[0m \u001b[0mvalue\u001b[0m\u001b[1;33m)\u001b[0m\u001b[1;33m\u001b[0m\u001b[1;33m\u001b[0m\u001b[0m\n\u001b[0m\u001b[0;32m     70\u001b[0m \u001b[1;33m\u001b[0m\u001b[0m\n\u001b[0;32m     71\u001b[0m             \u001b[0mfget\u001b[0m\u001b[1;33m.\u001b[0m\u001b[0m__name__\u001b[0m \u001b[1;33m=\u001b[0m \u001b[0mname\u001b[0m\u001b[1;33m\u001b[0m\u001b[1;33m\u001b[0m\u001b[0m\n",
      "\u001b[1;32mE:\\E_GitHubRepos\\alphalens\\venv\\lib\\site-packages\\pandas\\core\\arrays\\datetimelike.py\u001b[0m in \u001b[0;36mfreq\u001b[1;34m(self, value)\u001b[0m\n\u001b[0;32m    819\u001b[0m         \u001b[1;32mif\u001b[0m \u001b[0mvalue\u001b[0m \u001b[1;32mis\u001b[0m \u001b[1;32mnot\u001b[0m \u001b[1;32mNone\u001b[0m\u001b[1;33m:\u001b[0m\u001b[1;33m\u001b[0m\u001b[1;33m\u001b[0m\u001b[0m\n\u001b[0;32m    820\u001b[0m             \u001b[0mvalue\u001b[0m \u001b[1;33m=\u001b[0m \u001b[0mto_offset\u001b[0m\u001b[1;33m(\u001b[0m\u001b[0mvalue\u001b[0m\u001b[1;33m)\u001b[0m\u001b[1;33m\u001b[0m\u001b[1;33m\u001b[0m\u001b[0m\n\u001b[1;32m--> 821\u001b[1;33m             \u001b[0mself\u001b[0m\u001b[1;33m.\u001b[0m\u001b[0m_validate_frequency\u001b[0m\u001b[1;33m(\u001b[0m\u001b[0mself\u001b[0m\u001b[1;33m,\u001b[0m \u001b[0mvalue\u001b[0m\u001b[1;33m)\u001b[0m\u001b[1;33m\u001b[0m\u001b[1;33m\u001b[0m\u001b[0m\n\u001b[0m\u001b[0;32m    822\u001b[0m \u001b[1;33m\u001b[0m\u001b[0m\n\u001b[0;32m    823\u001b[0m         \u001b[0mself\u001b[0m\u001b[1;33m.\u001b[0m\u001b[0m_freq\u001b[0m \u001b[1;33m=\u001b[0m \u001b[0mvalue\u001b[0m\u001b[1;33m\u001b[0m\u001b[1;33m\u001b[0m\u001b[0m\n",
      "\u001b[1;32mE:\\E_GitHubRepos\\alphalens\\venv\\lib\\site-packages\\pandas\\core\\arrays\\datetimelike.py\u001b[0m in \u001b[0;36m_validate_frequency\u001b[1;34m(cls, index, freq, **kwargs)\u001b[0m\n\u001b[0;32m    895\u001b[0m             \u001b[1;31m#  raise a ValueError, which we re-raise with a more targeted\u001b[0m\u001b[1;33m\u001b[0m\u001b[1;33m\u001b[0m\u001b[1;33m\u001b[0m\u001b[0m\n\u001b[0;32m    896\u001b[0m             \u001b[1;31m#  message.\u001b[0m\u001b[1;33m\u001b[0m\u001b[1;33m\u001b[0m\u001b[1;33m\u001b[0m\u001b[0m\n\u001b[1;32m--> 897\u001b[1;33m             raise ValueError(\n\u001b[0m\u001b[0;32m    898\u001b[0m                 \u001b[1;34mf\"Inferred frequency {inferred} from passed values \"\u001b[0m\u001b[1;33m\u001b[0m\u001b[1;33m\u001b[0m\u001b[0m\n\u001b[0;32m    899\u001b[0m                 \u001b[1;34mf\"does not conform to passed frequency {freq.freqstr}\"\u001b[0m\u001b[1;33m\u001b[0m\u001b[1;33m\u001b[0m\u001b[0m\n",
      "\u001b[1;31mValueError\u001b[0m: Inferred frequency None from passed values does not conform to passed frequency T"
     ]
    }
   ],
   "source": [
    "print(f\"{daily_factors.index.levels[0]}, \\n {min_factors.index.levels[0]}\")\n",
    "# A way to solve ValueError: Inferred frequency None from passed values does not conform to passed frequency C #371\n",
    "# https://github.com/quantopian/alphalens/issues/371\n",
    "# set freq to C\n",
    "# min_factors.index.levels[0].freq = 'C'\n",
    "min_factors.index.levels[0].freq = 'T'\n",
    "print(f\"{daily_factors.index.levels[0]}, \\n {min_factors.index.levels[0]}\")"
   ]
  },
  {
   "cell_type": "markdown",
   "metadata": {},
   "source": [
    "### compute_forward_returns参数及返回\n",
    "\n",
    "#### pandas大于1版本，compute_forward_returns报错解决：\n",
    "1. RuntimeError: Cannot set name on a level of a MultiIndex. Use 'MultiIndex.set_names' instead.\n",
    "2. 解决办法：https://github.com/quantopian/alphalens/pull/364/files\n",
    "\n",
    "#### 参数：prices\n",
    "1. Pricing data must span the factor analysis time period plus an additional buffer window that is greater than the maximum number of expected periods\n",
    "\n",
    "#### 返回：Returns\n",
    "1. A MultiIndex DataFrame indexed by timestamp (level 0) and asset (level 1), containing the forward returns for assets.\n",
    "2. Forward returns column names follow the format accepted by pd.Timedelta (e.g. '1D', '30m', '3h15m', '1D1h', etc).\n",
    "3. 'date' index freq property (forward_returns.index.levels[0].freq) will be set to a trading calendar (pandas DateOffset) inferred from the input data (see infer_trading_calendar for more details)."
   ]
  },
  {
   "cell_type": "code",
   "execution_count": 7,
   "metadata": {},
   "outputs": [
    {
     "ename": "ValueError",
     "evalue": "Inferred frequency None from passed values does not conform to passed frequency C",
     "output_type": "error",
     "traceback": [
      "\u001b[1;31m---------------------------------------------------------------------------\u001b[0m",
      "\u001b[1;31mValueError\u001b[0m                                Traceback (most recent call last)",
      "\u001b[1;32mE:\\E_GitHubRepos\\alphalens\\venv\\lib\\site-packages\\pandas\\core\\arrays\\datetimelike.py\u001b[0m in \u001b[0;36m_validate_frequency\u001b[1;34m(cls, index, freq, **kwargs)\u001b[0m\n\u001b[0;32m    885\u001b[0m             \u001b[1;32mif\u001b[0m \u001b[1;32mnot\u001b[0m \u001b[0mnp\u001b[0m\u001b[1;33m.\u001b[0m\u001b[0marray_equal\u001b[0m\u001b[1;33m(\u001b[0m\u001b[0mindex\u001b[0m\u001b[1;33m.\u001b[0m\u001b[0masi8\u001b[0m\u001b[1;33m,\u001b[0m \u001b[0mon_freq\u001b[0m\u001b[1;33m.\u001b[0m\u001b[0masi8\u001b[0m\u001b[1;33m)\u001b[0m\u001b[1;33m:\u001b[0m\u001b[1;33m\u001b[0m\u001b[1;33m\u001b[0m\u001b[0m\n\u001b[1;32m--> 886\u001b[1;33m                 \u001b[1;32mraise\u001b[0m \u001b[0mValueError\u001b[0m\u001b[1;33m\u001b[0m\u001b[1;33m\u001b[0m\u001b[0m\n\u001b[0m\u001b[0;32m    887\u001b[0m         \u001b[1;32mexcept\u001b[0m \u001b[0mValueError\u001b[0m \u001b[1;32mas\u001b[0m \u001b[0me\u001b[0m\u001b[1;33m:\u001b[0m\u001b[1;33m\u001b[0m\u001b[1;33m\u001b[0m\u001b[0m\n",
      "\u001b[1;31mValueError\u001b[0m: ",
      "\nThe above exception was the direct cause of the following exception:\n",
      "\u001b[1;31mValueError\u001b[0m                                Traceback (most recent call last)",
      "\u001b[1;32m~\\AppData\\Local\\Temp\\ipykernel_20868\\3646213630.py\u001b[0m in \u001b[0;36m<module>\u001b[1;34m\u001b[0m\n\u001b[0;32m      5\u001b[0m \u001b[1;31m#                                                    cumulative_returns=True)\u001b[0m\u001b[1;33m\u001b[0m\u001b[1;33m\u001b[0m\u001b[1;33m\u001b[0m\u001b[0m\n\u001b[0;32m      6\u001b[0m \u001b[1;33m\u001b[0m\u001b[0m\n\u001b[1;32m----> 7\u001b[1;33m forward_returns = al.utils.compute_forward_returns(factor=min_factors, \n\u001b[0m\u001b[0;32m      8\u001b[0m                                                    \u001b[0mprices\u001b[0m\u001b[1;33m=\u001b[0m\u001b[0mmin_prices\u001b[0m\u001b[1;33m,\u001b[0m\u001b[1;33m\u001b[0m\u001b[1;33m\u001b[0m\u001b[0m\n\u001b[0;32m      9\u001b[0m                                                    \u001b[0mperiods\u001b[0m\u001b[1;33m=\u001b[0m\u001b[1;33m(\u001b[0m\u001b[1;36m1\u001b[0m\u001b[1;33m,\u001b[0m \u001b[1;36m3\u001b[0m\u001b[1;33m,\u001b[0m \u001b[1;36m5\u001b[0m\u001b[1;33m)\u001b[0m\u001b[1;33m,\u001b[0m\u001b[1;33m\u001b[0m\u001b[1;33m\u001b[0m\u001b[0m\n",
      "\u001b[1;32mE:\\E_GitHubRepos\\alphalens\\alphalens\\utils.py\u001b[0m in \u001b[0;36mcompute_forward_returns\u001b[1;34m(factor, prices, periods, filter_zscore, cumulative_returns)\u001b[0m\n\u001b[0;32m    337\u001b[0m     \u001b[0mdf\u001b[0m \u001b[1;33m=\u001b[0m \u001b[0mdf\u001b[0m\u001b[1;33m[\u001b[0m\u001b[0mcolumn_list\u001b[0m\u001b[1;33m]\u001b[0m\u001b[1;33m\u001b[0m\u001b[1;33m\u001b[0m\u001b[0m\n\u001b[0;32m    338\u001b[0m \u001b[1;33m\u001b[0m\u001b[0m\n\u001b[1;32m--> 339\u001b[1;33m     \u001b[0mdf\u001b[0m\u001b[1;33m.\u001b[0m\u001b[0mindex\u001b[0m\u001b[1;33m.\u001b[0m\u001b[0mlevels\u001b[0m\u001b[1;33m[\u001b[0m\u001b[1;36m0\u001b[0m\u001b[1;33m]\u001b[0m\u001b[1;33m.\u001b[0m\u001b[0mfreq\u001b[0m \u001b[1;33m=\u001b[0m \u001b[0mfreq\u001b[0m\u001b[1;33m\u001b[0m\u001b[1;33m\u001b[0m\u001b[0m\n\u001b[0m\u001b[0;32m    340\u001b[0m     \u001b[1;31m# https://github.com/quantopian/alphalens/pull/364/files\u001b[0m\u001b[1;33m\u001b[0m\u001b[1;33m\u001b[0m\u001b[1;33m\u001b[0m\u001b[0m\n\u001b[0;32m    341\u001b[0m     \u001b[1;31m# df.index.levels[0].name = \"date\"\u001b[0m\u001b[1;33m\u001b[0m\u001b[1;33m\u001b[0m\u001b[1;33m\u001b[0m\u001b[0m\n",
      "\u001b[1;32mE:\\E_GitHubRepos\\alphalens\\venv\\lib\\site-packages\\pandas\\core\\indexes\\extension.py\u001b[0m in \u001b[0;36mfset\u001b[1;34m(self, value)\u001b[0m\n\u001b[0;32m     67\u001b[0m \u001b[1;33m\u001b[0m\u001b[0m\n\u001b[0;32m     68\u001b[0m             \u001b[1;32mdef\u001b[0m \u001b[0mfset\u001b[0m\u001b[1;33m(\u001b[0m\u001b[0mself\u001b[0m\u001b[1;33m,\u001b[0m \u001b[0mvalue\u001b[0m\u001b[1;33m)\u001b[0m\u001b[1;33m:\u001b[0m\u001b[1;33m\u001b[0m\u001b[1;33m\u001b[0m\u001b[0m\n\u001b[1;32m---> 69\u001b[1;33m                 \u001b[0msetattr\u001b[0m\u001b[1;33m(\u001b[0m\u001b[0mself\u001b[0m\u001b[1;33m.\u001b[0m\u001b[0m_data\u001b[0m\u001b[1;33m,\u001b[0m \u001b[0mname\u001b[0m\u001b[1;33m,\u001b[0m \u001b[0mvalue\u001b[0m\u001b[1;33m)\u001b[0m\u001b[1;33m\u001b[0m\u001b[1;33m\u001b[0m\u001b[0m\n\u001b[0m\u001b[0;32m     70\u001b[0m \u001b[1;33m\u001b[0m\u001b[0m\n\u001b[0;32m     71\u001b[0m             \u001b[0mfget\u001b[0m\u001b[1;33m.\u001b[0m\u001b[0m__name__\u001b[0m \u001b[1;33m=\u001b[0m \u001b[0mname\u001b[0m\u001b[1;33m\u001b[0m\u001b[1;33m\u001b[0m\u001b[0m\n",
      "\u001b[1;32mE:\\E_GitHubRepos\\alphalens\\venv\\lib\\site-packages\\pandas\\core\\arrays\\datetimelike.py\u001b[0m in \u001b[0;36mfreq\u001b[1;34m(self, value)\u001b[0m\n\u001b[0;32m    819\u001b[0m         \u001b[1;32mif\u001b[0m \u001b[0mvalue\u001b[0m \u001b[1;32mis\u001b[0m \u001b[1;32mnot\u001b[0m \u001b[1;32mNone\u001b[0m\u001b[1;33m:\u001b[0m\u001b[1;33m\u001b[0m\u001b[1;33m\u001b[0m\u001b[0m\n\u001b[0;32m    820\u001b[0m             \u001b[0mvalue\u001b[0m \u001b[1;33m=\u001b[0m \u001b[0mto_offset\u001b[0m\u001b[1;33m(\u001b[0m\u001b[0mvalue\u001b[0m\u001b[1;33m)\u001b[0m\u001b[1;33m\u001b[0m\u001b[1;33m\u001b[0m\u001b[0m\n\u001b[1;32m--> 821\u001b[1;33m             \u001b[0mself\u001b[0m\u001b[1;33m.\u001b[0m\u001b[0m_validate_frequency\u001b[0m\u001b[1;33m(\u001b[0m\u001b[0mself\u001b[0m\u001b[1;33m,\u001b[0m \u001b[0mvalue\u001b[0m\u001b[1;33m)\u001b[0m\u001b[1;33m\u001b[0m\u001b[1;33m\u001b[0m\u001b[0m\n\u001b[0m\u001b[0;32m    822\u001b[0m \u001b[1;33m\u001b[0m\u001b[0m\n\u001b[0;32m    823\u001b[0m         \u001b[0mself\u001b[0m\u001b[1;33m.\u001b[0m\u001b[0m_freq\u001b[0m \u001b[1;33m=\u001b[0m \u001b[0mvalue\u001b[0m\u001b[1;33m\u001b[0m\u001b[1;33m\u001b[0m\u001b[0m\n",
      "\u001b[1;32mE:\\E_GitHubRepos\\alphalens\\venv\\lib\\site-packages\\pandas\\core\\arrays\\datetimelike.py\u001b[0m in \u001b[0;36m_validate_frequency\u001b[1;34m(cls, index, freq, **kwargs)\u001b[0m\n\u001b[0;32m    895\u001b[0m             \u001b[1;31m#  raise a ValueError, which we re-raise with a more targeted\u001b[0m\u001b[1;33m\u001b[0m\u001b[1;33m\u001b[0m\u001b[1;33m\u001b[0m\u001b[0m\n\u001b[0;32m    896\u001b[0m             \u001b[1;31m#  message.\u001b[0m\u001b[1;33m\u001b[0m\u001b[1;33m\u001b[0m\u001b[1;33m\u001b[0m\u001b[0m\n\u001b[1;32m--> 897\u001b[1;33m             raise ValueError(\n\u001b[0m\u001b[0;32m    898\u001b[0m                 \u001b[1;34mf\"Inferred frequency {inferred} from passed values \"\u001b[0m\u001b[1;33m\u001b[0m\u001b[1;33m\u001b[0m\u001b[0m\n\u001b[0;32m    899\u001b[0m                 \u001b[1;34mf\"does not conform to passed frequency {freq.freqstr}\"\u001b[0m\u001b[1;33m\u001b[0m\u001b[1;33m\u001b[0m\u001b[0m\n",
      "\u001b[1;31mValueError\u001b[0m: Inferred frequency None from passed values does not conform to passed frequency C"
     ]
    }
   ],
   "source": [
    "# forward_returns = al.utils.compute_forward_returns(factor=daily_factors, \n",
    "#                                                    prices=daily_prices, \n",
    "#                                                    periods=(1, 3, 5), \n",
    "#                                                    filter_zscore=20,\n",
    "#                                                    cumulative_returns=True)\n",
    " \n",
    "forward_returns = al.utils.compute_forward_returns(factor=min_factors, \n",
    "                                                   prices=min_prices, \n",
    "                                                   periods=(1, 3, 5), \n",
    "                                                   filter_zscore=20,\n",
    "                                                   cumulative_returns=True)\n",
    "\n",
    "forward_returns"
   ]
  },
  {
   "cell_type": "markdown",
   "metadata": {},
   "source": [
    "### get_clean_factor_and_forward_returns参数说明\n",
    "\n",
    "#### groupby，行业分组\n",
    "1. Either A MultiIndex Series indexed by date and asset,containing the period wise group codes for each asset\n",
    "2. or a dict of asset to group mappings. If a dict is passed, it is assumed that group mappings are unchanged for the entire time period of the passed factor data.\n",
    "\n",
    "#### binning_by_group, 是否按照行业分组， bool\n",
    "\n",
    "#### quantiles, 分组个数\n",
    "1. Number of equal-sized quantile buckets to use in factor bucketing.\n",
    "2. Alternately sequence of quantiles, allowing non-equal-sized buckets, e.g. [0, .10, .5, .90, 1.] or [.05, .5, .95]\n",
    "3. Only one of 'quantiles' or 'bins' can be not-None\n",
    "\n",
    "#### bins，直方图个数\n",
    "1. Number of equal-width (valuewise) bins to use in factor bucketing.\n",
    "2. Alternately sequence of bin edges allowing for non-uniform bin width, e.g. [-4, -2, -0.5, 0, 10]\n",
    "3. Chooses the buckets to be evenly spaced according to the values themselves. Useful when the factor contains discrete values.\n",
    "\n",
    "#### periods\n",
    "1. periods to compute forward returns on.\n",
    "\n",
    "#### filter_zscore \n",
    "1. Sets forward returns greater than X standard deviations from the the mean to nan. Set it to 'None' to avoid filtering.\n",
    "2. Caution: this outlier filtering incorporates lookahead bias.\n"
   ]
  },
  {
   "cell_type": "markdown",
   "metadata": {},
   "source": [
    "### 日频，get_clean_factor_and_forward_returns"
   ]
  },
  {
   "cell_type": "code",
   "execution_count": null,
   "metadata": {
    "pycharm": {
     "is_executing": true,
     "name": "#%%\n"
    },
    "scrolled": false
   },
   "outputs": [],
   "source": [
    "factor_data = al.utils.get_clean_factor_and_forward_returns(factor=factors,\n",
    "                                                            prices=prices,\n",
    "                                                            groupby=None,\n",
    "                                                            binning_by_group=False,\n",
    "                                                            quantiles=5,  # None\n",
    "                                                            bins=None,  # [0, 0.2, 0.4, 0.8, 1.0]\n",
    "                                                            periods=(1, 3, 5),\n",
    "                                                            filter_zscore=20,\n",
    "                                                            groupby_labels=None,\n",
    "                                                            max_loss=0.35,\n",
    "                                                            zero_aware=False,\n",
    "                                                            cumulative_returns=True)"
   ]
  },
  {
   "cell_type": "code",
   "execution_count": null,
   "metadata": {
    "collapsed": true,
    "pycharm": {
     "is_executing": true
    }
   },
   "outputs": [],
   "source": [
    "al.tears.create_full_tear_sheet(factor_data, long_short=True, group_neutral=False, by_group=False)"
   ]
  },
  {
   "cell_type": "code",
   "execution_count": null,
   "metadata": {
    "collapsed": true,
    "pycharm": {
     "is_executing": true
    }
   },
   "outputs": [],
   "source": [
    "al.tears.create_event_returns_tear_sheet(factor_data, prices,\n",
    "                                         avgretplot=(5, 15),\n",
    "                                         long_short=True,\n",
    "                                         group_neutral=False,\n",
    "                                         std_bar=True,\n",
    "                                         by_group=False)"
   ]
  },
  {
   "cell_type": "code",
   "execution_count": null,
   "metadata": {
    "collapsed": true,
    "pycharm": {
     "is_executing": true
    }
   },
   "outputs": [],
   "source": [
    "al.tears.create_summary_tear_sheet(factor_data, long_short=True, group_neutral=False)"
   ]
  },
  {
   "cell_type": "code",
   "execution_count": null,
   "metadata": {
    "collapsed": true,
    "pycharm": {
     "is_executing": true
    }
   },
   "outputs": [],
   "source": [
    "al.tears.create_returns_tear_sheet(factor_data, long_short=True, group_neutral=False, by_group=False)"
   ]
  },
  {
   "cell_type": "code",
   "execution_count": null,
   "metadata": {
    "collapsed": true,
    "pycharm": {
     "is_executing": true
    }
   },
   "outputs": [],
   "source": [
    "al.tears.create_information_tear_sheet(factor_data, group_neutral=False, by_group=False)"
   ]
  },
  {
   "cell_type": "code",
   "execution_count": null,
   "metadata": {
    "collapsed": true,
    "pycharm": {
     "is_executing": true
    }
   },
   "outputs": [],
   "source": [
    "al.tears.create_turnover_tear_sheet(factor_data)"
   ]
  },
  {
   "cell_type": "code",
   "execution_count": null,
   "metadata": {
    "pycharm": {
     "is_executing": true
    }
   },
   "outputs": [],
   "source": [
    "ic = al.performance.mean_information_coefficient(factor_data, by_time='1y')\n",
    "\n",
    "attr = ic.index.strftime('%Y')\n",
    "v1 = list(ic['1D'].round(2))\n",
    "v2 = list(ic['3D'].round(2))\n",
    "v3 = list(ic['5D'].round(2))\n",
    "bar = Bar('IC均值：2006-2019')\n",
    "bar.add('1D', attr, v1)\n",
    "bar.add('3D', attr, v2)\n",
    "bar.add('5D', attr, v3)\n",
    "bar.render()\n"
   ]
  },
  {
   "cell_type": "code",
   "execution_count": null,
   "metadata": {
    "collapsed": true,
    "pycharm": {
     "is_executing": true
    }
   },
   "outputs": [],
   "source": [
    "factor_data"
   ]
  },
  {
   "cell_type": "code",
   "execution_count": null,
   "metadata": {
    "pycharm": {
     "is_executing": true
    }
   },
   "outputs": [],
   "source": []
  }
 ],
 "metadata": {
  "kernelspec": {
   "display_name": "Python 3 (ipykernel)",
   "language": "python",
   "name": "python3"
  },
  "language_info": {
   "codemirror_mode": {
    "name": "ipython",
    "version": 3
   },
   "file_extension": ".py",
   "mimetype": "text/x-python",
   "name": "python",
   "nbconvert_exporter": "python",
   "pygments_lexer": "ipython3",
   "version": "3.8.8"
  },
  "latex_envs": {
   "LaTeX_envs_menu_present": true,
   "autoclose": false,
   "autocomplete": true,
   "bibliofile": "biblio.bib",
   "cite_by": "apalike",
   "current_citInitial": 1,
   "eqLabelWithNumbers": true,
   "eqNumInitial": 1,
   "hotkeys": {
    "equation": "Ctrl-E",
    "itemize": "Ctrl-I"
   },
   "labels_anchors": false,
   "latex_user_defs": false,
   "report_style_numbering": false,
   "user_envs_cfg": false
  },
  "toc": {
   "base_numbering": 1,
   "nav_menu": {},
   "number_sections": true,
   "sideBar": true,
   "skip_h1_title": false,
   "title_cell": "Table of Contents",
   "title_sidebar": "Contents",
   "toc_cell": false,
   "toc_position": {},
   "toc_section_display": true,
   "toc_window_display": false
  },
  "varInspector": {
   "cols": {
    "lenName": 16,
    "lenType": 16,
    "lenVar": 40
   },
   "kernels_config": {
    "python": {
     "delete_cmd_postfix": "",
     "delete_cmd_prefix": "del ",
     "library": "var_list.py",
     "varRefreshCmd": "print(var_dic_list())"
    },
    "r": {
     "delete_cmd_postfix": ") ",
     "delete_cmd_prefix": "rm(",
     "library": "var_list.r",
     "varRefreshCmd": "cat(var_dic_list()) "
    }
   },
   "types_to_exclude": [
    "module",
    "function",
    "builtin_function_or_method",
    "instance",
    "_Feature"
   ],
   "window_display": false
  }
 },
 "nbformat": 4,
 "nbformat_minor": 1
}
